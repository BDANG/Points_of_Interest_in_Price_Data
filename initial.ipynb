{
 "cells": [
  {
   "cell_type": "code",
   "execution_count": 1,
   "metadata": {},
   "outputs": [],
   "source": [
    "import requests\n",
    "import pandas as pd\n",
    "import datetime\n",
    "import json\n",
    "from matplotlib import pyplot as plt\n",
    "from ta import *"
   ]
  },
  {
   "cell_type": "code",
   "execution_count": 24,
   "metadata": {},
   "outputs": [
    {
     "data": {
      "text/plain": [
       "1451624400.0"
      ]
     },
     "execution_count": 24,
     "metadata": {},
     "output_type": "execute_result"
    }
   ],
   "source": [
    "start = datetime.datetime(year=2016, month=1, day=1)\n",
    "start = datetime.datetime.timestamp(start)\n",
    "start"
   ]
  },
  {
   "cell_type": "code",
   "execution_count": 25,
   "metadata": {},
   "outputs": [],
   "source": [
    "def fetch_poloniex_df(currency_pair, start=int(start), end=9999999999, period=14400):\n",
    "    data = fetch_poloniex(currency_pair, start, end, period)\n",
    "    df = pd.DataFrame(data)\n",
    "    df[\"date\"] = df[\"date\"].apply(lambda d: datetime.datetime.utcfromtimestamp(d))\n",
    "    return df\n",
    "\n",
    "def fetch_poloniex(currency_pair, start=int(start), end=9999999999, period=14400):\n",
    "    api = \"https://poloniex.com/public?command=returnChartData&currencyPair={}&start={}&end={}&period={}\"\n",
    "    api = api.format(currency_pair, start, end, period)\n",
    "    r = requests.get(api)\n",
    "    return json.loads(r.text)"
   ]
  },
  {
   "cell_type": "code",
   "execution_count": 26,
   "metadata": {},
   "outputs": [
    {
     "data": {
      "text/plain": [
       "[{'date': 1514782800,\n",
       "  'high': 0.05529993,\n",
       "  'low': 0.05529993,\n",
       "  'open': 0.05529993,\n",
       "  'close': 0.05529993,\n",
       "  'volume': 0,\n",
       "  'quoteVolume': 0,\n",
       "  'weightedAverage': 0.05529993},\n",
       " {'date': 1514793600,\n",
       "  'high': 0.0562132,\n",
       "  'low': 0.0548,\n",
       "  'open': 0.0552999,\n",
       "  'close': 0.056,\n",
       "  'volume': 547.55177592,\n",
       "  'quoteVolume': 9850.62286967,\n",
       "  'weightedAverage': 0.05558549},\n",
       " {'date': 1514808000,\n",
       "  'high': 0.057,\n",
       "  'low': 0.05563538,\n",
       "  'open': 0.056,\n",
       "  'close': 0.05644,\n",
       "  'volume': 908.67088856,\n",
       "  'quoteVolume': 16102.02785405,\n",
       "  'weightedAverage': 0.05643207}]"
      ]
     },
     "execution_count": 26,
     "metadata": {},
     "output_type": "execute_result"
    }
   ],
   "source": [
    "test = datetime.datetime(year=2018, month=1, day=1)\n",
    "test = datetime.datetime.timestamp(test)\n",
    "data = fetch_poloniex(\"BTC_ETH\", start=test, period=14400)\n",
    "data[0:3]"
   ]
  },
  {
   "cell_type": "code",
   "execution_count": 27,
   "metadata": {},
   "outputs": [
    {
     "data": {
      "text/html": [
       "<div>\n",
       "<style scoped>\n",
       "    .dataframe tbody tr th:only-of-type {\n",
       "        vertical-align: middle;\n",
       "    }\n",
       "\n",
       "    .dataframe tbody tr th {\n",
       "        vertical-align: top;\n",
       "    }\n",
       "\n",
       "    .dataframe thead th {\n",
       "        text-align: right;\n",
       "    }\n",
       "</style>\n",
       "<table border=\"1\" class=\"dataframe\">\n",
       "  <thead>\n",
       "    <tr style=\"text-align: right;\">\n",
       "      <th></th>\n",
       "      <th>close</th>\n",
       "      <th>date</th>\n",
       "      <th>high</th>\n",
       "      <th>low</th>\n",
       "      <th>open</th>\n",
       "      <th>quoteVolume</th>\n",
       "      <th>volume</th>\n",
       "      <th>weightedAverage</th>\n",
       "      <th>mean</th>\n",
       "    </tr>\n",
       "  </thead>\n",
       "  <tbody>\n",
       "    <tr>\n",
       "      <th>0</th>\n",
       "      <td>6481.846675</td>\n",
       "      <td>2018-09-27 12:00:00</td>\n",
       "      <td>6798.000000</td>\n",
       "      <td>6461.066881</td>\n",
       "      <td>6493.658601</td>\n",
       "      <td>0.876761</td>\n",
       "      <td>5701.874517</td>\n",
       "      <td>6503.337433</td>\n",
       "      <td>6629.533441</td>\n",
       "    </tr>\n",
       "    <tr>\n",
       "      <th>1</th>\n",
       "      <td>6659.700000</td>\n",
       "      <td>2018-09-27 16:00:00</td>\n",
       "      <td>6676.991255</td>\n",
       "      <td>6483.846675</td>\n",
       "      <td>6483.846675</td>\n",
       "      <td>9.025383</td>\n",
       "      <td>59127.199613</td>\n",
       "      <td>6551.212098</td>\n",
       "      <td>6580.418965</td>\n",
       "    </tr>\n",
       "    <tr>\n",
       "      <th>2</th>\n",
       "      <td>6677.567006</td>\n",
       "      <td>2018-09-27 20:00:00</td>\n",
       "      <td>6717.622625</td>\n",
       "      <td>6658.073256</td>\n",
       "      <td>6658.073256</td>\n",
       "      <td>0.997148</td>\n",
       "      <td>6673.005129</td>\n",
       "      <td>6692.093858</td>\n",
       "      <td>6687.847940</td>\n",
       "    </tr>\n",
       "    <tr>\n",
       "      <th>3</th>\n",
       "      <td>6690.000000</td>\n",
       "      <td>2018-09-28 00:00:00</td>\n",
       "      <td>6714.553283</td>\n",
       "      <td>6690.000000</td>\n",
       "      <td>6698.021814</td>\n",
       "      <td>4.600176</td>\n",
       "      <td>30886.459109</td>\n",
       "      <td>6714.191311</td>\n",
       "      <td>6702.276641</td>\n",
       "    </tr>\n",
       "    <tr>\n",
       "      <th>4</th>\n",
       "      <td>6753.315115</td>\n",
       "      <td>2018-09-28 04:00:00</td>\n",
       "      <td>6775.435948</td>\n",
       "      <td>6690.000000</td>\n",
       "      <td>6691.056128</td>\n",
       "      <td>1.195961</td>\n",
       "      <td>8028.622257</td>\n",
       "      <td>6713.111131</td>\n",
       "      <td>6732.717974</td>\n",
       "    </tr>\n",
       "  </tbody>\n",
       "</table>\n",
       "</div>"
      ],
      "text/plain": [
       "         close                date         high          low         open  \\\n",
       "0  6481.846675 2018-09-27 12:00:00  6798.000000  6461.066881  6493.658601   \n",
       "1  6659.700000 2018-09-27 16:00:00  6676.991255  6483.846675  6483.846675   \n",
       "2  6677.567006 2018-09-27 20:00:00  6717.622625  6658.073256  6658.073256   \n",
       "3  6690.000000 2018-09-28 00:00:00  6714.553283  6690.000000  6698.021814   \n",
       "4  6753.315115 2018-09-28 04:00:00  6775.435948  6690.000000  6691.056128   \n",
       "\n",
       "   quoteVolume        volume  weightedAverage         mean  \n",
       "0     0.876761   5701.874517      6503.337433  6629.533441  \n",
       "1     9.025383  59127.199613      6551.212098  6580.418965  \n",
       "2     0.997148   6673.005129      6692.093858  6687.847940  \n",
       "3     4.600176  30886.459109      6714.191311  6702.276641  \n",
       "4     1.195961   8028.622257      6713.111131  6732.717974  "
      ]
     },
     "execution_count": 27,
     "metadata": {},
     "output_type": "execute_result"
    }
   ],
   "source": [
    "btc_df = fetch_poloniex_df(\"USDC_BTC\", start=test, period=14400)\n",
    "btc_df[\"mean\"] = (btc_df[\"high\"] + btc_df[\"low\"])/2\n",
    "btc_df.head()"
   ]
  },
  {
   "cell_type": "code",
   "execution_count": 28,
   "metadata": {},
   "outputs": [
    {
     "data": {
      "text/html": [
       "<div>\n",
       "<style scoped>\n",
       "    .dataframe tbody tr th:only-of-type {\n",
       "        vertical-align: middle;\n",
       "    }\n",
       "\n",
       "    .dataframe tbody tr th {\n",
       "        vertical-align: top;\n",
       "    }\n",
       "\n",
       "    .dataframe thead th {\n",
       "        text-align: right;\n",
       "    }\n",
       "</style>\n",
       "<table border=\"1\" class=\"dataframe\">\n",
       "  <thead>\n",
       "    <tr style=\"text-align: right;\">\n",
       "      <th></th>\n",
       "      <th>close</th>\n",
       "      <th>date</th>\n",
       "      <th>high</th>\n",
       "      <th>low</th>\n",
       "      <th>open</th>\n",
       "      <th>quoteVolume</th>\n",
       "      <th>volume</th>\n",
       "      <th>weightedAverage</th>\n",
       "      <th>mean</th>\n",
       "    </tr>\n",
       "  </thead>\n",
       "  <tbody>\n",
       "    <tr>\n",
       "      <th>0</th>\n",
       "      <td>217.730911</td>\n",
       "      <td>2018-09-27 12:00:00</td>\n",
       "      <td>219.205421</td>\n",
       "      <td>206.834755</td>\n",
       "      <td>216.367107</td>\n",
       "      <td>46.947086</td>\n",
       "      <td>10270.606779</td>\n",
       "      <td>218.769847</td>\n",
       "      <td>213.020088</td>\n",
       "    </tr>\n",
       "    <tr>\n",
       "      <th>1</th>\n",
       "      <td>227.651851</td>\n",
       "      <td>2018-09-27 16:00:00</td>\n",
       "      <td>227.651851</td>\n",
       "      <td>216.557438</td>\n",
       "      <td>216.697533</td>\n",
       "      <td>148.485498</td>\n",
       "      <td>32975.113977</td>\n",
       "      <td>222.076327</td>\n",
       "      <td>222.104645</td>\n",
       "    </tr>\n",
       "    <tr>\n",
       "      <th>2</th>\n",
       "      <td>228.335474</td>\n",
       "      <td>2018-09-27 20:00:00</td>\n",
       "      <td>232.966266</td>\n",
       "      <td>227.795419</td>\n",
       "      <td>232.966266</td>\n",
       "      <td>61.941487</td>\n",
       "      <td>14235.311270</td>\n",
       "      <td>229.818690</td>\n",
       "      <td>230.380842</td>\n",
       "    </tr>\n",
       "    <tr>\n",
       "      <th>3</th>\n",
       "      <td>229.785611</td>\n",
       "      <td>2018-09-28 00:00:00</td>\n",
       "      <td>231.000000</td>\n",
       "      <td>227.817459</td>\n",
       "      <td>229.990000</td>\n",
       "      <td>6.293639</td>\n",
       "      <td>1445.498443</td>\n",
       "      <td>229.676087</td>\n",
       "      <td>229.408729</td>\n",
       "    </tr>\n",
       "    <tr>\n",
       "      <th>4</th>\n",
       "      <td>229.292054</td>\n",
       "      <td>2018-09-28 04:00:00</td>\n",
       "      <td>233.044802</td>\n",
       "      <td>228.785082</td>\n",
       "      <td>228.785082</td>\n",
       "      <td>42.977497</td>\n",
       "      <td>9944.621987</td>\n",
       "      <td>231.391373</td>\n",
       "      <td>230.914942</td>\n",
       "    </tr>\n",
       "  </tbody>\n",
       "</table>\n",
       "</div>"
      ],
      "text/plain": [
       "        close                date        high         low        open  \\\n",
       "0  217.730911 2018-09-27 12:00:00  219.205421  206.834755  216.367107   \n",
       "1  227.651851 2018-09-27 16:00:00  227.651851  216.557438  216.697533   \n",
       "2  228.335474 2018-09-27 20:00:00  232.966266  227.795419  232.966266   \n",
       "3  229.785611 2018-09-28 00:00:00  231.000000  227.817459  229.990000   \n",
       "4  229.292054 2018-09-28 04:00:00  233.044802  228.785082  228.785082   \n",
       "\n",
       "   quoteVolume        volume  weightedAverage        mean  \n",
       "0    46.947086  10270.606779       218.769847  213.020088  \n",
       "1   148.485498  32975.113977       222.076327  222.104645  \n",
       "2    61.941487  14235.311270       229.818690  230.380842  \n",
       "3     6.293639   1445.498443       229.676087  229.408729  \n",
       "4    42.977497   9944.621987       231.391373  230.914942  "
      ]
     },
     "execution_count": 28,
     "metadata": {},
     "output_type": "execute_result"
    }
   ],
   "source": [
    "eth_df = fetch_poloniex_df(\"USDC_ETH\", start=test, period=14400)\n",
    "eth_df[\"mean\"] = (eth_df[\"high\"] + eth_df[\"low\"])/2\n",
    "eth_df.head()"
   ]
  },
  {
   "cell_type": "code",
   "execution_count": 49,
   "metadata": {},
   "outputs": [],
   "source": [
    "cols = [\"open\", \"high\", \"low\", \"close\", \"quoteVolume\", \"volume\", \"weightedAverage\", \"mean\"]\n",
    "btc_df = btc_df.rename(columns={col: col+\"_btc\" for col in cols})\n",
    "\n",
    "\n",
    "eth_df = eth_df.rename(columns={col: col+\"_eth\" for col in cols})"
   ]
  },
  {
   "cell_type": "code",
   "execution_count": 50,
   "metadata": {},
   "outputs": [
    {
     "data": {
      "text/html": [
       "<div>\n",
       "<style scoped>\n",
       "    .dataframe tbody tr th:only-of-type {\n",
       "        vertical-align: middle;\n",
       "    }\n",
       "\n",
       "    .dataframe tbody tr th {\n",
       "        vertical-align: top;\n",
       "    }\n",
       "\n",
       "    .dataframe thead th {\n",
       "        text-align: right;\n",
       "    }\n",
       "</style>\n",
       "<table border=\"1\" class=\"dataframe\">\n",
       "  <thead>\n",
       "    <tr style=\"text-align: right;\">\n",
       "      <th></th>\n",
       "      <th>close_btc</th>\n",
       "      <th>date</th>\n",
       "      <th>high_btc</th>\n",
       "      <th>low_btc</th>\n",
       "      <th>open_btc</th>\n",
       "      <th>quoteVolume_btc</th>\n",
       "      <th>volume_btc</th>\n",
       "      <th>weightedAverage_btc</th>\n",
       "      <th>mean_btc</th>\n",
       "      <th>close_eth</th>\n",
       "      <th>high_eth</th>\n",
       "      <th>low_eth</th>\n",
       "      <th>open_eth</th>\n",
       "      <th>quoteVolume_eth</th>\n",
       "      <th>volume_eth</th>\n",
       "      <th>weightedAverage_eth</th>\n",
       "      <th>mean_eth</th>\n",
       "    </tr>\n",
       "  </thead>\n",
       "  <tbody>\n",
       "    <tr>\n",
       "      <th>0</th>\n",
       "      <td>6481.846675</td>\n",
       "      <td>2018-09-27 12:00:00</td>\n",
       "      <td>6798.000000</td>\n",
       "      <td>6461.066881</td>\n",
       "      <td>6493.658601</td>\n",
       "      <td>0.876761</td>\n",
       "      <td>5701.874517</td>\n",
       "      <td>6503.337433</td>\n",
       "      <td>6629.533441</td>\n",
       "      <td>217.730911</td>\n",
       "      <td>219.205421</td>\n",
       "      <td>206.834755</td>\n",
       "      <td>216.367107</td>\n",
       "      <td>46.947086</td>\n",
       "      <td>10270.606779</td>\n",
       "      <td>218.769847</td>\n",
       "      <td>213.020088</td>\n",
       "    </tr>\n",
       "    <tr>\n",
       "      <th>1</th>\n",
       "      <td>6659.700000</td>\n",
       "      <td>2018-09-27 16:00:00</td>\n",
       "      <td>6676.991255</td>\n",
       "      <td>6483.846675</td>\n",
       "      <td>6483.846675</td>\n",
       "      <td>9.025383</td>\n",
       "      <td>59127.199613</td>\n",
       "      <td>6551.212098</td>\n",
       "      <td>6580.418965</td>\n",
       "      <td>227.651851</td>\n",
       "      <td>227.651851</td>\n",
       "      <td>216.557438</td>\n",
       "      <td>216.697533</td>\n",
       "      <td>148.485498</td>\n",
       "      <td>32975.113977</td>\n",
       "      <td>222.076327</td>\n",
       "      <td>222.104645</td>\n",
       "    </tr>\n",
       "    <tr>\n",
       "      <th>2</th>\n",
       "      <td>6677.567006</td>\n",
       "      <td>2018-09-27 20:00:00</td>\n",
       "      <td>6717.622625</td>\n",
       "      <td>6658.073256</td>\n",
       "      <td>6658.073256</td>\n",
       "      <td>0.997148</td>\n",
       "      <td>6673.005129</td>\n",
       "      <td>6692.093858</td>\n",
       "      <td>6687.847940</td>\n",
       "      <td>228.335474</td>\n",
       "      <td>232.966266</td>\n",
       "      <td>227.795419</td>\n",
       "      <td>232.966266</td>\n",
       "      <td>61.941487</td>\n",
       "      <td>14235.311270</td>\n",
       "      <td>229.818690</td>\n",
       "      <td>230.380842</td>\n",
       "    </tr>\n",
       "    <tr>\n",
       "      <th>3</th>\n",
       "      <td>6690.000000</td>\n",
       "      <td>2018-09-28 00:00:00</td>\n",
       "      <td>6714.553283</td>\n",
       "      <td>6690.000000</td>\n",
       "      <td>6698.021814</td>\n",
       "      <td>4.600176</td>\n",
       "      <td>30886.459109</td>\n",
       "      <td>6714.191311</td>\n",
       "      <td>6702.276641</td>\n",
       "      <td>229.785611</td>\n",
       "      <td>231.000000</td>\n",
       "      <td>227.817459</td>\n",
       "      <td>229.990000</td>\n",
       "      <td>6.293639</td>\n",
       "      <td>1445.498443</td>\n",
       "      <td>229.676087</td>\n",
       "      <td>229.408729</td>\n",
       "    </tr>\n",
       "    <tr>\n",
       "      <th>4</th>\n",
       "      <td>6753.315115</td>\n",
       "      <td>2018-09-28 04:00:00</td>\n",
       "      <td>6775.435948</td>\n",
       "      <td>6690.000000</td>\n",
       "      <td>6691.056128</td>\n",
       "      <td>1.195961</td>\n",
       "      <td>8028.622257</td>\n",
       "      <td>6713.111131</td>\n",
       "      <td>6732.717974</td>\n",
       "      <td>229.292054</td>\n",
       "      <td>233.044802</td>\n",
       "      <td>228.785082</td>\n",
       "      <td>228.785082</td>\n",
       "      <td>42.977497</td>\n",
       "      <td>9944.621987</td>\n",
       "      <td>231.391373</td>\n",
       "      <td>230.914942</td>\n",
       "    </tr>\n",
       "  </tbody>\n",
       "</table>\n",
       "</div>"
      ],
      "text/plain": [
       "     close_btc                date     high_btc      low_btc     open_btc  \\\n",
       "0  6481.846675 2018-09-27 12:00:00  6798.000000  6461.066881  6493.658601   \n",
       "1  6659.700000 2018-09-27 16:00:00  6676.991255  6483.846675  6483.846675   \n",
       "2  6677.567006 2018-09-27 20:00:00  6717.622625  6658.073256  6658.073256   \n",
       "3  6690.000000 2018-09-28 00:00:00  6714.553283  6690.000000  6698.021814   \n",
       "4  6753.315115 2018-09-28 04:00:00  6775.435948  6690.000000  6691.056128   \n",
       "\n",
       "   quoteVolume_btc    volume_btc  weightedAverage_btc     mean_btc  \\\n",
       "0         0.876761   5701.874517          6503.337433  6629.533441   \n",
       "1         9.025383  59127.199613          6551.212098  6580.418965   \n",
       "2         0.997148   6673.005129          6692.093858  6687.847940   \n",
       "3         4.600176  30886.459109          6714.191311  6702.276641   \n",
       "4         1.195961   8028.622257          6713.111131  6732.717974   \n",
       "\n",
       "    close_eth    high_eth     low_eth    open_eth  quoteVolume_eth  \\\n",
       "0  217.730911  219.205421  206.834755  216.367107        46.947086   \n",
       "1  227.651851  227.651851  216.557438  216.697533       148.485498   \n",
       "2  228.335474  232.966266  227.795419  232.966266        61.941487   \n",
       "3  229.785611  231.000000  227.817459  229.990000         6.293639   \n",
       "4  229.292054  233.044802  228.785082  228.785082        42.977497   \n",
       "\n",
       "     volume_eth  weightedAverage_eth    mean_eth  \n",
       "0  10270.606779           218.769847  213.020088  \n",
       "1  32975.113977           222.076327  222.104645  \n",
       "2  14235.311270           229.818690  230.380842  \n",
       "3   1445.498443           229.676087  229.408729  \n",
       "4   9944.621987           231.391373  230.914942  "
      ]
     },
     "execution_count": 50,
     "metadata": {},
     "output_type": "execute_result"
    }
   ],
   "source": [
    "btc_eth = pd.merge(btc_df, eth_df,\n",
    "                   on=\"date\",\n",
    "                   how=\"inner\")\n",
    "btc_eth.head()"
   ]
  },
  {
   "cell_type": "code",
   "execution_count": 51,
   "metadata": {},
   "outputs": [
    {
     "data": {
      "image/png": "[encoded data removed]",
      "text/plain": [
       "<Figure size 432x288 with 1 Axes>"
      ]
     },
     "metadata": {
      "needs_background": "light"
     },
     "output_type": "display_data"
    }
   ],
   "source": [
    "maxVal = btc_eth[\"high_btc\"].max()\n",
    "btc_eth[\"btc_norm\"] = btc_eth[\"high_btc\"].apply(lambda val: val/maxVal)\n",
    "\n",
    "maxVal = btc_eth[\"high_eth\"].max()\n",
    "btc_eth[\"eth_norm\"] = btc_eth[\"high_eth\"].apply(lambda val: val/maxVal)\n",
    "\n",
    "plt.plot(btc_eth[\"date\"], btc_eth[\"btc_norm\"], btc_eth[\"date\"], btc_eth[\"eth_norm\"])\n",
    "plt.legend([\"bitcoin\", \"ether\"])\n",
    "\n",
    "plt.show()"
   ]
  },
  {
   "cell_type": "code",
   "execution_count": 52,
   "metadata": {},
   "outputs": [
    {
     "data": {
      "text/plain": [
       "(1528,)"
      ]
     },
     "execution_count": 52,
     "metadata": {},
     "output_type": "execute_result"
    }
   ],
   "source": [
    "btc_eth[\"btc_norm\"].shape"
   ]
  },
  {
   "cell_type": "code",
   "execution_count": 53,
   "metadata": {},
   "outputs": [
    {
     "data": {
      "text/plain": [
       "(1528,)"
      ]
     },
     "execution_count": 53,
     "metadata": {},
     "output_type": "execute_result"
    }
   ],
   "source": [
    "btc_eth[\"eth_norm\"].shape"
   ]
  },
  {
   "cell_type": "code",
   "execution_count": 54,
   "metadata": {},
   "outputs": [
    {
     "data": {
      "image/png": "[encoded data removed]",
      "text/plain": [
       "<Figure size 432x288 with 1 Axes>"
      ]
     },
     "metadata": {
      "needs_background": "light"
     },
     "output_type": "display_data"
    }
   ],
   "source": [
    "maxVal = btc_eth[\"high_btc\"].max()\n",
    "btc_eth[\"btc_norm\"] = btc_eth[\"high_btc\"].apply(lambda val: val/maxVal)\n",
    "\n",
    "maxVal = btc_eth[\"high_eth\"].max()\n",
    "btc_eth[\"eth_norm\"] = btc_eth[\"high_eth\"].apply(lambda val: val/maxVal)\n",
    "\n",
    "limit = 50\n",
    "x = btc_eth[\"date\"].tail(limit)\n",
    "btc = btc_eth[\"btc_norm\"].tail(limit)\n",
    "eth =  btc_eth[\"eth_norm\"].tail(limit)\n",
    "\n",
    "plt.plot(x, btc, x, eth)\n",
    "plt.legend([\"bitcoin\", \"ether\"])\n",
    "\n",
    "plt.show()"
   ]
  },
  {
   "cell_type": "code",
   "execution_count": 55,
   "metadata": {},
   "outputs": [
    {
     "data": {
      "text/html": [
       "<div>\n",
       "<style scoped>\n",
       "    .dataframe tbody tr th:only-of-type {\n",
       "        vertical-align: middle;\n",
       "    }\n",
       "\n",
       "    .dataframe tbody tr th {\n",
       "        vertical-align: top;\n",
       "    }\n",
       "\n",
       "    .dataframe thead th {\n",
       "        text-align: right;\n",
       "    }\n",
       "</style>\n",
       "<table border=\"1\" class=\"dataframe\">\n",
       "  <thead>\n",
       "    <tr style=\"text-align: right;\">\n",
       "      <th></th>\n",
       "      <th>prev_high_btc</th>\n",
       "      <th>high_btc</th>\n",
       "      <th>high_btc_pchange</th>\n",
       "    </tr>\n",
       "  </thead>\n",
       "  <tbody>\n",
       "    <tr>\n",
       "      <th>0</th>\n",
       "      <td>6798.000000</td>\n",
       "      <td>6798.000000</td>\n",
       "      <td>0.000000</td>\n",
       "    </tr>\n",
       "    <tr>\n",
       "      <th>1</th>\n",
       "      <td>6798.000000</td>\n",
       "      <td>6676.991255</td>\n",
       "      <td>-0.017801</td>\n",
       "    </tr>\n",
       "    <tr>\n",
       "      <th>2</th>\n",
       "      <td>6676.991255</td>\n",
       "      <td>6717.622625</td>\n",
       "      <td>0.006085</td>\n",
       "    </tr>\n",
       "    <tr>\n",
       "      <th>3</th>\n",
       "      <td>6717.622625</td>\n",
       "      <td>6714.553283</td>\n",
       "      <td>-0.000457</td>\n",
       "    </tr>\n",
       "    <tr>\n",
       "      <th>4</th>\n",
       "      <td>6714.553283</td>\n",
       "      <td>6775.435948</td>\n",
       "      <td>0.009067</td>\n",
       "    </tr>\n",
       "  </tbody>\n",
       "</table>\n",
       "</div>"
      ],
      "text/plain": [
       "   prev_high_btc     high_btc  high_btc_pchange\n",
       "0    6798.000000  6798.000000          0.000000\n",
       "1    6798.000000  6676.991255         -0.017801\n",
       "2    6676.991255  6717.622625          0.006085\n",
       "3    6717.622625  6714.553283         -0.000457\n",
       "4    6714.553283  6775.435948          0.009067"
      ]
     },
     "execution_count": 55,
     "metadata": {},
     "output_type": "execute_result"
    }
   ],
   "source": [
    "btc_eth[\"prev_high_btc\"] = btc_eth[\"high_btc\"].shift(1, fill_value=btc_eth.iloc[0][\"high_btc\"])\n",
    "btc_eth[\"high_btc_pchange\"] = (btc_eth[\"high_btc\"] / btc_eth[\"prev_high_btc\"]).apply(lambda v: v - 1)\n",
    "btc_eth.head()[[\"prev_high_btc\", \"high_btc\", \"high_btc_pchange\"]]"
   ]
  },
  {
   "cell_type": "code",
   "execution_count": 56,
   "metadata": {},
   "outputs": [
    {
     "data": {
      "text/html": [
       "<div>\n",
       "<style scoped>\n",
       "    .dataframe tbody tr th:only-of-type {\n",
       "        vertical-align: middle;\n",
       "    }\n",
       "\n",
       "    .dataframe tbody tr th {\n",
       "        vertical-align: top;\n",
       "    }\n",
       "\n",
       "    .dataframe thead th {\n",
       "        text-align: right;\n",
       "    }\n",
       "</style>\n",
       "<table border=\"1\" class=\"dataframe\">\n",
       "  <thead>\n",
       "    <tr style=\"text-align: right;\">\n",
       "      <th></th>\n",
       "      <th>prev_high_eth</th>\n",
       "      <th>high_eth</th>\n",
       "      <th>high_eth_pchange</th>\n",
       "    </tr>\n",
       "  </thead>\n",
       "  <tbody>\n",
       "    <tr>\n",
       "      <th>0</th>\n",
       "      <td>219.205421</td>\n",
       "      <td>219.205421</td>\n",
       "      <td>0.000000</td>\n",
       "    </tr>\n",
       "    <tr>\n",
       "      <th>1</th>\n",
       "      <td>219.205421</td>\n",
       "      <td>227.651851</td>\n",
       "      <td>0.038532</td>\n",
       "    </tr>\n",
       "    <tr>\n",
       "      <th>2</th>\n",
       "      <td>227.651851</td>\n",
       "      <td>232.966266</td>\n",
       "      <td>0.023344</td>\n",
       "    </tr>\n",
       "    <tr>\n",
       "      <th>3</th>\n",
       "      <td>232.966266</td>\n",
       "      <td>231.000000</td>\n",
       "      <td>-0.008440</td>\n",
       "    </tr>\n",
       "    <tr>\n",
       "      <th>4</th>\n",
       "      <td>231.000000</td>\n",
       "      <td>233.044802</td>\n",
       "      <td>0.008852</td>\n",
       "    </tr>\n",
       "  </tbody>\n",
       "</table>\n",
       "</div>"
      ],
      "text/plain": [
       "   prev_high_eth    high_eth  high_eth_pchange\n",
       "0     219.205421  219.205421          0.000000\n",
       "1     219.205421  227.651851          0.038532\n",
       "2     227.651851  232.966266          0.023344\n",
       "3     232.966266  231.000000         -0.008440\n",
       "4     231.000000  233.044802          0.008852"
      ]
     },
     "execution_count": 56,
     "metadata": {},
     "output_type": "execute_result"
    }
   ],
   "source": [
    "btc_eth[\"prev_high_eth\"] = btc_eth[\"high_eth\"].shift(1, fill_value=btc_eth.iloc[0][\"high_eth\"])\n",
    "btc_eth[\"high_eth_pchange\"] = (btc_eth[\"high_eth\"] / btc_eth[\"prev_high_eth\"]).apply(lambda v: v - 1)\n",
    "btc_eth.head()[[\"prev_high_eth\", \"high_eth\", \"high_eth_pchange\"]]"
   ]
  },
  {
   "cell_type": "code",
   "execution_count": 57,
   "metadata": {},
   "outputs": [
    {
     "data": {
      "image/png": "[encoded data removed]",
      "text/plain": [
       "<Figure size 432x288 with 1 Axes>"
      ]
     },
     "metadata": {
      "needs_background": "light"
     },
     "output_type": "display_data"
    }
   ],
   "source": [
    "limit = 10\n",
    "x = btc_eth[\"date\"].tail(limit)\n",
    "btc = btc_eth[\"high_btc_pchange\"].tail(limit)\n",
    "eth =  btc_eth[\"high_eth_pchange\"].tail(limit)\n",
    "\n",
    "plt.plot(x, btc, x, eth)\n",
    "plt.legend([\"bitcoin\", \"ether\"])\n",
    "\n",
    "plt.show()"
   ]
  },
  {
   "cell_type": "markdown",
   "metadata": {},
   "source": [
    "## Identify POI"
   ]
  },
  {
   "cell_type": "code",
   "execution_count": 58,
   "metadata": {},
   "outputs": [
    {
     "data": {
      "text/html": [
       "<div>\n",
       "<style scoped>\n",
       "    .dataframe tbody tr th:only-of-type {\n",
       "        vertical-align: middle;\n",
       "    }\n",
       "\n",
       "    .dataframe tbody tr th {\n",
       "        vertical-align: top;\n",
       "    }\n",
       "\n",
       "    .dataframe thead th {\n",
       "        text-align: right;\n",
       "    }\n",
       "</style>\n",
       "<table border=\"1\" class=\"dataframe\">\n",
       "  <thead>\n",
       "    <tr style=\"text-align: right;\">\n",
       "      <th></th>\n",
       "      <th>close_btc</th>\n",
       "      <th>date</th>\n",
       "      <th>high_btc</th>\n",
       "      <th>low_btc</th>\n",
       "      <th>open_btc</th>\n",
       "      <th>quoteVolume_btc</th>\n",
       "      <th>volume_btc</th>\n",
       "      <th>weightedAverage_btc</th>\n",
       "      <th>mean_btc</th>\n",
       "      <th>close_eth</th>\n",
       "      <th>...</th>\n",
       "      <th>quoteVolume_eth</th>\n",
       "      <th>volume_eth</th>\n",
       "      <th>weightedAverage_eth</th>\n",
       "      <th>mean_eth</th>\n",
       "      <th>btc_norm</th>\n",
       "      <th>eth_norm</th>\n",
       "      <th>prev_high_btc</th>\n",
       "      <th>high_btc_pchange</th>\n",
       "      <th>prev_high_eth</th>\n",
       "      <th>high_eth_pchange</th>\n",
       "    </tr>\n",
       "  </thead>\n",
       "  <tbody>\n",
       "    <tr>\n",
       "      <th>0</th>\n",
       "      <td>6481.846675</td>\n",
       "      <td>2018-09-27 12:00:00</td>\n",
       "      <td>6798.000000</td>\n",
       "      <td>6461.066881</td>\n",
       "      <td>6493.658601</td>\n",
       "      <td>0.876761</td>\n",
       "      <td>5701.874517</td>\n",
       "      <td>6503.337433</td>\n",
       "      <td>6629.533441</td>\n",
       "      <td>217.730911</td>\n",
       "      <td>...</td>\n",
       "      <td>46.947086</td>\n",
       "      <td>10270.606779</td>\n",
       "      <td>218.769847</td>\n",
       "      <td>213.020088</td>\n",
       "      <td>0.747780</td>\n",
       "      <td>0.760074</td>\n",
       "      <td>6798.000000</td>\n",
       "      <td>0.000000</td>\n",
       "      <td>219.205421</td>\n",
       "      <td>0.000000</td>\n",
       "    </tr>\n",
       "    <tr>\n",
       "      <th>1</th>\n",
       "      <td>6659.700000</td>\n",
       "      <td>2018-09-27 16:00:00</td>\n",
       "      <td>6676.991255</td>\n",
       "      <td>6483.846675</td>\n",
       "      <td>6483.846675</td>\n",
       "      <td>9.025383</td>\n",
       "      <td>59127.199613</td>\n",
       "      <td>6551.212098</td>\n",
       "      <td>6580.418965</td>\n",
       "      <td>227.651851</td>\n",
       "      <td>...</td>\n",
       "      <td>148.485498</td>\n",
       "      <td>32975.113977</td>\n",
       "      <td>222.076327</td>\n",
       "      <td>222.104645</td>\n",
       "      <td>0.734469</td>\n",
       "      <td>0.789361</td>\n",
       "      <td>6798.000000</td>\n",
       "      <td>-0.017801</td>\n",
       "      <td>219.205421</td>\n",
       "      <td>0.038532</td>\n",
       "    </tr>\n",
       "    <tr>\n",
       "      <th>2</th>\n",
       "      <td>6677.567006</td>\n",
       "      <td>2018-09-27 20:00:00</td>\n",
       "      <td>6717.622625</td>\n",
       "      <td>6658.073256</td>\n",
       "      <td>6658.073256</td>\n",
       "      <td>0.997148</td>\n",
       "      <td>6673.005129</td>\n",
       "      <td>6692.093858</td>\n",
       "      <td>6687.847940</td>\n",
       "      <td>228.335474</td>\n",
       "      <td>...</td>\n",
       "      <td>61.941487</td>\n",
       "      <td>14235.311270</td>\n",
       "      <td>229.818690</td>\n",
       "      <td>230.380842</td>\n",
       "      <td>0.738939</td>\n",
       "      <td>0.807789</td>\n",
       "      <td>6676.991255</td>\n",
       "      <td>0.006085</td>\n",
       "      <td>227.651851</td>\n",
       "      <td>0.023344</td>\n",
       "    </tr>\n",
       "  </tbody>\n",
       "</table>\n",
       "<p>3 rows × 23 columns</p>\n",
       "</div>"
      ],
      "text/plain": [
       "     close_btc                date     high_btc      low_btc     open_btc  \\\n",
       "0  6481.846675 2018-09-27 12:00:00  6798.000000  6461.066881  6493.658601   \n",
       "1  6659.700000 2018-09-27 16:00:00  6676.991255  6483.846675  6483.846675   \n",
       "2  6677.567006 2018-09-27 20:00:00  6717.622625  6658.073256  6658.073256   \n",
       "\n",
       "   quoteVolume_btc    volume_btc  weightedAverage_btc     mean_btc  \\\n",
       "0         0.876761   5701.874517          6503.337433  6629.533441   \n",
       "1         9.025383  59127.199613          6551.212098  6580.418965   \n",
       "2         0.997148   6673.005129          6692.093858  6687.847940   \n",
       "\n",
       "    close_eth  ...  quoteVolume_eth    volume_eth  weightedAverage_eth  \\\n",
       "0  217.730911  ...        46.947086  10270.606779           218.769847   \n",
       "1  227.651851  ...       148.485498  32975.113977           222.076327   \n",
       "2  228.335474  ...        61.941487  14235.311270           229.818690   \n",
       "\n",
       "     mean_eth  btc_norm  eth_norm  prev_high_btc  high_btc_pchange  \\\n",
       "0  213.020088  0.747780  0.760074    6798.000000          0.000000   \n",
       "1  222.104645  0.734469  0.789361    6798.000000         -0.017801   \n",
       "2  230.380842  0.738939  0.807789    6676.991255          0.006085   \n",
       "\n",
       "   prev_high_eth  high_eth_pchange  \n",
       "0     219.205421          0.000000  \n",
       "1     219.205421          0.038532  \n",
       "2     227.651851          0.023344  \n",
       "\n",
       "[3 rows x 23 columns]"
      ]
     },
     "execution_count": 58,
     "metadata": {},
     "output_type": "execute_result"
    }
   ],
   "source": [
    "btc_eth.head(3)"
   ]
  },
  {
   "cell_type": "code",
   "execution_count": 59,
   "metadata": {},
   "outputs": [
    {
     "data": {
      "text/plain": [
       "14"
      ]
     },
     "execution_count": 59,
     "metadata": {},
     "output_type": "execute_result"
    }
   ],
   "source": [
    "import importlib\n",
    "import find_poi\n",
    "importlib.reload(find_poi)\n",
    "\n",
    "\n",
    "x = btc_eth.index\n",
    "y = btc_eth[\"high_btc\"].copy()\n",
    "\n",
    "bounds = find_poi.find_poi_df(x, y, window_size=100, threshold=0.05, merge_intervals=True)\n",
    "len(bounds)"
   ]
  },
  {
   "cell_type": "code",
   "execution_count": 60,
   "metadata": {},
   "outputs": [],
   "source": [
    "x_start_points = []\n",
    "y_start_points = []\n",
    "\n",
    "x_end_points = []\n",
    "y_end_points = []\n",
    "\n",
    "for bound in bounds:\n",
    "    x_start_points.append(btc_eth[\"date\"].iloc[bound[0]])\n",
    "    x_end_points.append(btc_eth[\"date\"].iloc[bound[1]])\n",
    "    y_start_points.append(btc_eth[\"high_btc\"].iloc[bound[0]])\n",
    "    y_end_points.append(btc_eth[\"high_btc\"].iloc[bound[1]])"
   ]
  },
  {
   "cell_type": "markdown",
   "metadata": {},
   "source": [
    "----"
   ]
  },
  {
   "cell_type": "code",
   "execution_count": 61,
   "metadata": {},
   "outputs": [
    {
     "data": {
      "image/png": "[encoded data removed]",
      "text/plain": [
       "<Figure size 864x432 with 1 Axes>"
      ]
     },
     "metadata": {
      "needs_background": "light"
     },
     "output_type": "display_data"
    }
   ],
   "source": [
    "\n",
    "\n",
    "fig = plt.figure(figsize=(12, 6))\n",
    "\n",
    "\n",
    "plt.plot(btc_eth[\"date\"], btc_eth[\"high_btc\"], figure=fig)\n",
    "\n",
    "plt.scatter(x_start_points, y_start_points, color=\"green\")\n",
    "plt.scatter(x_end_points, y_end_points, color=\"red\")\n",
    "\n",
    "\n",
    "plt.legend([\"bitcoin\", \"Start\", \"End\"])\n",
    "\n",
    "\n",
    "plt.show()"
   ]
  },
  {
   "cell_type": "code",
   "execution_count": 62,
   "metadata": {},
   "outputs": [
    {
     "data": {
      "image/png": "[encoded data removed]",
      "text/plain": [
       "<Figure size 864x432 with 1 Axes>"
      ]
     },
     "metadata": {
      "needs_background": "light"
     },
     "output_type": "display_data"
    }
   ],
   "source": [
    "btc_eth[\"btc_bb_high\"] = bollinger_hband(btc_eth[\"high_btc\"], n=60, ndev=2, fillna=True)\n",
    "btc_eth[\"btc_bb_low\"] = bollinger_lband(btc_eth[\"high_btc\"], n=60, ndev=2, fillna=True)\n",
    "\n",
    "\n",
    "fig = plt.figure(figsize=(12, 6))\n",
    "\n",
    "\n",
    "plt.plot(btc_eth[\"date\"], btc_eth[\"high_btc\"], figure=fig, label=\"btc\")\n",
    "plt.plot(btc_eth[\"date\"], btc_eth[\"btc_bb_high\"], label=\"hbb_btc\")\n",
    "plt.plot(btc_eth[\"date\"], btc_eth[\"btc_bb_low\"], label=\"lbb_btc\")\n",
    "\n",
    "plt.scatter(x_start_points, y_start_points, color=\"green\")\n",
    "plt.scatter(x_end_points, y_end_points, color=\"red\")\n",
    "\n",
    "plt.legend()\n",
    "\n",
    "\n",
    "\n",
    "\n",
    "plt.show()"
   ]
  },
  {
   "cell_type": "code",
   "execution_count": null,
   "metadata": {},
   "outputs": [],
   "source": []
  },
  {
   "cell_type": "code",
   "execution_count": null,
   "metadata": {},
   "outputs": [],
   "source": []
  },
  {
   "cell_type": "code",
   "execution_count": null,
   "metadata": {},
   "outputs": [],
   "source": []
  },
  {
   "cell_type": "code",
   "execution_count": null,
   "metadata": {},
   "outputs": [],
   "source": []
  },
  {
   "cell_type": "code",
   "execution_count": null,
   "metadata": {},
   "outputs": [],
   "source": []
  },
  {
   "cell_type": "code",
   "execution_count": null,
   "metadata": {},
   "outputs": [],
   "source": []
  },
  {
   "cell_type": "code",
   "execution_count": null,
   "metadata": {},
   "outputs": [],
   "source": []
  },
  {
   "cell_type": "code",
   "execution_count": null,
   "metadata": {},
   "outputs": [],
   "source": []
  },
  {
   "cell_type": "code",
   "execution_count": null,
   "metadata": {},
   "outputs": [],
   "source": []
  },
  {
   "cell_type": "code",
   "execution_count": null,
   "metadata": {},
   "outputs": [],
   "source": []
  },
  {
   "cell_type": "code",
   "execution_count": null,
   "metadata": {},
   "outputs": [],
   "source": []
  },
  {
   "cell_type": "code",
   "execution_count": null,
   "metadata": {},
   "outputs": [],
   "source": []
  },
  {
   "cell_type": "code",
   "execution_count": null,
   "metadata": {},
   "outputs": [],
   "source": []
  },
  {
   "cell_type": "code",
   "execution_count": null,
   "metadata": {},
   "outputs": [],
   "source": []
  },
  {
   "cell_type": "code",
   "execution_count": null,
   "metadata": {},
   "outputs": [],
   "source": []
  },
  {
   "cell_type": "code",
   "execution_count": null,
   "metadata": {},
   "outputs": [],
   "source": []
  }
 ],
 "metadata": {
  "kernelspec": {
   "display_name": "Python 3",
   "language": "python",
   "name": "python3"
  },
  "language_info": {
   "codemirror_mode": {
    "name": "ipython",
    "version": 3
   },
   "file_extension": ".py",
   "mimetype": "text/x-python",
   "name": "python",
   "nbconvert_exporter": "python",
   "pygments_lexer": "ipython3",
   "version": "3.6.8"
  }
 },
 "nbformat": 4,
 "nbformat_minor": 2
}
